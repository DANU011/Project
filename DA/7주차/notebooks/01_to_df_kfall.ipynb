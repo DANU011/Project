{
 "cells": [
  {
   "cell_type": "code",
   "execution_count": 72,
   "outputs": [
    {
     "name": "stdout",
     "output_type": "stream",
     "text": [
      "Empty DataFrame\n",
      "Columns: [TimeStamp(s), FrameCounter, AccX, AccY, AccZ, GyrX, GyrY, GyrZ, EulerX, EulerY, EulerZ, Subject ID, Task Code, Trial ID, Description, Fall_onset_frame, Fall_impact_frame]\n",
      "Index: []\n",
      "      Task Code                                   Description  Trial ID  \\\n",
      "0             1          Forward fall when trying to sit down         1   \n",
      "1             1          Forward fall when trying to sit down         2   \n",
      "2             1          Forward fall when trying to sit down         3   \n",
      "3             1          Forward fall when trying to sit down         4   \n",
      "4             1          Forward fall when trying to sit down         5   \n",
      "...         ...                                           ...       ...   \n",
      "2341         15  Backward fall while walking caused by a slip         1   \n",
      "2342         15  Backward fall while walking caused by a slip         2   \n",
      "2343         15  Backward fall while walking caused by a slip         3   \n",
      "2344         15  Backward fall while walking caused by a slip         4   \n",
      "2345         15  Backward fall while walking caused by a slip         5   \n",
      "\n",
      "      Fall_onset_frame  Fall_impact_frame Subject ID  \n",
      "0                  130                208       SA06  \n",
      "1                  184                272       SA06  \n",
      "2                  184                260       SA06  \n",
      "3                  151                231       SA06  \n",
      "4                  128                223       SA06  \n",
      "...                ...                ...        ...  \n",
      "2341               458                536       SA38  \n",
      "2342               388                454       SA38  \n",
      "2343               435                502       SA38  \n",
      "2344               447                514       SA38  \n",
      "2345               411                471       SA38  \n",
      "\n",
      "[2346 rows x 6 columns]\n"
     ]
    }
   ],
   "source": [
    "import pandas as pd\n",
    "import os\n",
    "import re\n",
    "\n",
    "# 센서 데이터와 레이블 데이터 경로 설정\n",
    "sensor_data_path = '../data/sensor_data'\n",
    "label_data_path = '../data/label_data'\n",
    "\n",
    "# 센서 데이터 로드 및 전처리\n",
    "sensor_data = pd.DataFrame()\n",
    "for root, dirs, files in os.walk(sensor_data_path):\n",
    "    for file in files:\n",
    "        if file.endswith('.csv'):\n",
    "            file_path = os.path.join(root, file)\n",
    "            df = pd.read_csv(file_path)\n",
    "            subject_id = file.split('T')[0]  # 파일명에서 주체 ID 추출\n",
    "            task_code = re.sub(r'\\D', '', file.split('T')[1].split('R')[0])  # 파일명에서 태스크 코드 추출 (숫자만 추출)\n",
    "            trial_id = file.split('R')[1].split('.')[0]  # 파일명에서 트라이얼 ID 추출\n",
    "            df['Subject ID'] = subject_id\n",
    "            df['Task Code'] = task_code\n",
    "            df['Trial ID'] = trial_id\n",
    "            sensor_data = pd.concat([sensor_data, df], ignore_index=True)\n",
    "\n",
    "# 레이블 데이터 로드 및 전처리\n",
    "label_data = pd.DataFrame()\n",
    "for root, dirs, files in os.walk(label_data_path):\n",
    "    for file in files:\n",
    "        if file.endswith('.xlsx'):\n",
    "            file_path = os.path.join(root, file)\n",
    "            df = pd.read_excel(file_path)\n",
    "            subject_id = file.split('_')[0]  # 파일명에서 주체 ID 추출\n",
    "            df['Subject ID'] = subject_id\n",
    "            df.rename(columns={'Task Code (Task ID)': 'Task Code'}, inplace=True)  # 컬럼명 수정\n",
    "            label_data = pd.concat([label_data, df], ignore_index=True)\n",
    "\n",
    "# 결측값 처리\n",
    "label_data[['Description', 'Task Code']] = label_data[['Description', 'Task Code']].fillna(method='ffill')\n",
    "\n",
    "# 데이터 타입 변환\n",
    "sensor_data['Subject ID'] = sensor_data['Subject ID'].astype(str)\n",
    "sensor_data['Task Code'] = sensor_data['Task Code'].astype(int)\n",
    "sensor_data['Trial ID'] = sensor_data['Trial ID'].astype(int)\n",
    "label_data['Subject ID'] = label_data['Subject ID'].astype(str)\n",
    "label_data['Task Code'] = label_data['Task Code (Task ID)'].str.extract(r'(\\d+)').astype(int)  # 숫자만 추출하여 정수로 변환\n",
    "label_data['Trial ID'] = label_data['Trial ID'].astype(int)\n",
    "\n",
    "# 센서 데이터와 레이블 데이터 결합\n",
    "merged_data = pd.merge(sensor_data, label_data, on=['Subject ID', 'Task Code', 'Trial ID'])\n",
    "\n",
    "# 결과 출력\n",
    "print(merged_data.head())\n",
    "print(label_data)\n"
   ],
   "metadata": {
    "collapsed": false
   }
  },
  {
   "cell_type": "code",
   "execution_count": null,
   "outputs": [],
   "source": [],
   "metadata": {
    "collapsed": false
   }
  }
 ],
 "metadata": {
  "kernelspec": {
   "display_name": "Python 3",
   "language": "python",
   "name": "python3"
  },
  "language_info": {
   "codemirror_mode": {
    "name": "ipython",
    "version": 2
   },
   "file_extension": ".py",
   "mimetype": "text/x-python",
   "name": "python",
   "nbconvert_exporter": "python",
   "pygments_lexer": "ipython2",
   "version": "2.7.6"
  }
 },
 "nbformat": 4,
 "nbformat_minor": 0
}
